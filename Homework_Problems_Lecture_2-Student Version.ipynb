{
 "cells": [
  {
   "cell_type": "markdown",
   "metadata": {},
   "source": [
    "# Beginner Python and Math for Data Science\n",
    "\n",
    "## Lecture 2 - Homework \n",
    "\n",
    "### Python's Built-in Data Types"
   ]
  },
  {
   "cell_type": "markdown",
   "metadata": {},
   "source": [
    "#### 1. Write a Python program to get a string made of the first 2 and the last 2 chars from a given a string (Assume string is longer than 2 chars). \n",
    "\n",
    "Sample String : 'burger'  \n",
    "Expected Result : 'buer'  \n",
    "Sample String : 'pi'  \n",
    "Expected Result : 'pipi'"
   ]
  },
  {
   "cell_type": "code",
   "execution_count": 10,
   "metadata": {},
   "outputs": [
    {
     "name": "stdout",
     "output_type": "stream",
     "text": [
      "buer\n"
     ]
    }
   ],
   "source": [
    "# your solution here \n",
    "\n",
    "length = int(len(\"burger\"))\n",
    "\n",
    "#print (length)\n",
    "\n",
    "print(\"burger\"[0:2] + \"burger\"[length - 2:length:1]) \n",
    "\n",
    "#remember when slicing you need to add an extra number to include the last digit\n",
    "\n",
    "meal = \"burger\"+\"bun\"\n",
    "\n",
    "#print (meal)"
   ]
  },
  {
   "cell_type": "markdown",
   "metadata": {},
   "source": [
    "#### 2. Write a Python function that checks whether a word is a palindrome without using any loops.  \n",
    "\n",
    "Note: A palindrome is a word that reads the same backward as forward.  \n",
    "Example: level  \n",
    "\n",
    "Hint: Remember that strings also behave like a list in Python, so you can perform list operations on strings."
   ]
  },
  {
   "cell_type": "code",
   "execution_count": 33,
   "metadata": {},
   "outputs": [
    {
     "name": "stdout",
     "output_type": "stream",
     "text": [
      "racecar\n",
      "racecar\n"
     ]
    },
    {
     "data": {
      "text/plain": [
       "True"
      ]
     },
     "execution_count": 33,
     "metadata": {},
     "output_type": "execute_result"
    }
   ],
   "source": [
    "# your solution here \n",
    "def palindromecheck(string):\n",
    "\n",
    "    reverseString = string[-1:-1*(len(string)+1):-1]\n",
    "    \n",
    "    print (string)\n",
    "    print (reverseString)\n",
    "    \n",
    "    if string == reverseString:\n",
    "        return True\n",
    "    else:\n",
    "        return False\n",
    "\n",
    "palindromecheck(\"racecar\")\n",
    "\n",
    "#palindromecheck(\"car\")"
   ]
  },
  {
   "cell_type": "markdown",
   "metadata": {},
   "source": [
    "3. Given a dictionary, write a Python program to create a list for all the keys, and another list for all the values of the dictionary.\n",
    "\n",
    "Example: my_dict = {\"a\":1, \"b\":2, \"c\":3}  \n",
    "Expected Result: l1 = [\"a\", \"b\", \"c\"], l2 = [1, 2, 3]"
   ]
  },
  {
   "cell_type": "code",
   "execution_count": 36,
   "metadata": {},
   "outputs": [
    {
     "name": "stdout",
     "output_type": "stream",
     "text": [
      "['name', 'course', 'course rating']\n",
      "['Gordon', 'BPM', '5/7']\n"
     ]
    }
   ],
   "source": [
    "# your solution here \n",
    "\n",
    "\"\"\"\n",
    "Game Plan\n",
    "Need to gather the keys and the items accessed by the keys in two seperate lists\n",
    "\n",
    "Questions:\n",
    "1. How to get Keys in a list?\n",
    "2. How to access items from key store and store in list?\n",
    "\n",
    "Insights:\n",
    "1. Perhaps use a for loop to populate the list and use slicing to populate each list one by one\n",
    "\n",
    "\"\"\"\n",
    "my_dict ={\"name\":\"Gordon\", \"course\":\"BPM\", \"course rating\": \"5/7\" } #fightclubmeme lol\n",
    "\n",
    "keyList = list()\n",
    "valueList = list()\n",
    "\n",
    "keyList = list(my_dict.keys())\n",
    "valueList = list(my_dict.values())\n",
    "\n",
    "print (keyList)\n",
    "print (valueList)"
   ]
  },
  {
   "cell_type": "markdown",
   "metadata": {},
   "source": [
    "#### 4. Given a list of numbers, write a program to compute the sum of the first and last numbers of the list."
   ]
  },
  {
   "cell_type": "code",
   "execution_count": 7,
   "metadata": {},
   "outputs": [
    {
     "data": {
      "text/plain": [
       "4"
      ]
     },
     "execution_count": 7,
     "metadata": {},
     "output_type": "execute_result"
    }
   ],
   "source": [
    "# your solution here \n",
    "\n",
    "def firstLast(Array):\n",
    "    \n",
    "    return Array[0]+Array[-1]\n",
    "\n",
    "Array1 = [1,2,3]\n",
    "\n",
    "firstLast(Array1)\n"
   ]
  },
  {
   "cell_type": "markdown",
   "metadata": {},
   "source": [
    "#### 5. Write a Python program to print out a set containing all the colors from color_list_1 which are not present in color_list_2.\n",
    "\n",
    "Test Data :  \n",
    "color_list_1 = set([\"White\", \"Black\", \"Red\"])   \n",
    "color_list_2 = set([\"Red\", \"Green\"])  \n",
    "Expected Output :  \n",
    "{'Black', 'White'}"
   ]
  },
  {
   "cell_type": "code",
   "execution_count": 30,
   "metadata": {},
   "outputs": [
    {
     "name": "stdout",
     "output_type": "stream",
     "text": [
      "{'White', 'Black'}\n"
     ]
    }
   ],
   "source": [
    "# your solution here \n",
    "color_list_1 = set([\"White\", \"Black\", \"Red\"])\n",
    "color_list_2 = set([\"Red\", \"Green\"])\n",
    "color_list_3 = set()\n",
    "\n",
    "\n",
    "color_list_3 = color_list_1.difference(color_list_2)\n",
    "\n",
    "print (color_list_3)"
   ]
  },
  {
   "cell_type": "code",
   "execution_count": null,
   "metadata": {},
   "outputs": [],
   "source": []
  }
 ],
 "metadata": {
  "kernelspec": {
   "display_name": "Python 3",
   "language": "python",
   "name": "python3"
  },
  "language_info": {
   "codemirror_mode": {
    "name": "ipython",
    "version": 3
   },
   "file_extension": ".py",
   "mimetype": "text/x-python",
   "name": "python",
   "nbconvert_exporter": "python",
   "pygments_lexer": "ipython3",
   "version": "3.7.1"
  },
  "toc": {
   "base_numbering": 1,
   "nav_menu": {},
   "number_sections": true,
   "sideBar": true,
   "skip_h1_title": false,
   "title_cell": "Table of Contents",
   "title_sidebar": "Contents",
   "toc_cell": false,
   "toc_position": {},
   "toc_section_display": true,
   "toc_window_display": false
  }
 },
 "nbformat": 4,
 "nbformat_minor": 2
}
